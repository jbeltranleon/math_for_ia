{
 "cells": [
  {
   "cell_type": "markdown",
   "metadata": {},
   "source": [
    "# Matrix"
   ]
  },
  {
   "cell_type": "code",
   "execution_count": 1,
   "metadata": {},
   "outputs": [],
   "source": [
    "import numpy as np"
   ]
  },
  {
   "cell_type": "code",
   "execution_count": 8,
   "metadata": {},
   "outputs": [],
   "source": [
    "v = [[ 1, 0, 3],\n",
    "     [-4, 3, 7],\n",
    "     [ 2,-2,-5]]\n",
    "\n",
    "w = [[2, 1, 0],\n",
    "     [3, 1,-2],\n",
    "     [0,-1,-2]]"
   ]
  },
  {
   "cell_type": "markdown",
   "metadata": {},
   "source": [
    "## Scalar product"
   ]
  },
  {
   "cell_type": "code",
   "execution_count": 12,
   "metadata": {},
   "outputs": [],
   "source": [
    "def scalar_product(v, w):\n",
    "    final = [[0,0,0],[0,0,0],[0,0,0]]\n",
    "    for i in range(len(v)):\n",
    "        print(final)\n",
    "        for j in range(len(v[i])):\n",
    "            results = []\n",
    "            for k in range(len(w)):\n",
    "                row_value = v[i][k]\n",
    "                column_value = w[k][j]\n",
    "                print(f'Operation: {row_value} * {column_value}')\n",
    "                results.append(row_value*column_value)\n",
    "            print(results)\n",
    "            print(f'Actual value on position: ({i},{j}) is {final[i][j]}')\n",
    "            final[i][j] = sum(results)\n",
    "            print(f'Value added in position: ({i},{j}) = {final[i][j]}')\n",
    "            print('_______________')\n",
    "            \n",
    "    return final"
   ]
  },
  {
   "cell_type": "code",
   "execution_count": 13,
   "metadata": {},
   "outputs": [
    {
     "name": "stdout",
     "output_type": "stream",
     "text": [
      "[[0, 0, 0], [0, 0, 0], [0, 0, 0]]\n",
      "Operation: 1 * 2\n",
      "Operation: 0 * 3\n",
      "Operation: 3 * 0\n",
      "[2, 0, 0]\n",
      "Actual value on position: (0,0) is 0\n",
      "Value added in position: (0,0) = 2\n",
      "_______________\n",
      "Operation: 1 * 1\n",
      "Operation: 0 * 1\n",
      "Operation: 3 * -1\n",
      "[1, 0, -3]\n",
      "Actual value on position: (0,1) is 0\n",
      "Value added in position: (0,1) = -2\n",
      "_______________\n",
      "Operation: 1 * 0\n",
      "Operation: 0 * -2\n",
      "Operation: 3 * -2\n",
      "[0, 0, -6]\n",
      "Actual value on position: (0,2) is 0\n",
      "Value added in position: (0,2) = -6\n",
      "_______________\n",
      "[[2, -2, -6], [0, 0, 0], [0, 0, 0]]\n",
      "Operation: -4 * 2\n",
      "Operation: 3 * 3\n",
      "Operation: 7 * 0\n",
      "[-8, 9, 0]\n",
      "Actual value on position: (1,0) is 0\n",
      "Value added in position: (1,0) = 1\n",
      "_______________\n",
      "Operation: -4 * 1\n",
      "Operation: 3 * 1\n",
      "Operation: 7 * -1\n",
      "[-4, 3, -7]\n",
      "Actual value on position: (1,1) is 0\n",
      "Value added in position: (1,1) = -8\n",
      "_______________\n",
      "Operation: -4 * 0\n",
      "Operation: 3 * -2\n",
      "Operation: 7 * -2\n",
      "[0, -6, -14]\n",
      "Actual value on position: (1,2) is 0\n",
      "Value added in position: (1,2) = -20\n",
      "_______________\n",
      "[[2, -2, -6], [1, -8, -20], [0, 0, 0]]\n",
      "Operation: 2 * 2\n",
      "Operation: -2 * 3\n",
      "Operation: -5 * 0\n",
      "[4, -6, 0]\n",
      "Actual value on position: (2,0) is 0\n",
      "Value added in position: (2,0) = -2\n",
      "_______________\n",
      "Operation: 2 * 1\n",
      "Operation: -2 * 1\n",
      "Operation: -5 * -1\n",
      "[2, -2, 5]\n",
      "Actual value on position: (2,1) is 0\n",
      "Value added in position: (2,1) = 5\n",
      "_______________\n",
      "Operation: 2 * 0\n",
      "Operation: -2 * -2\n",
      "Operation: -5 * -2\n",
      "[0, 4, 10]\n",
      "Actual value on position: (2,2) is 0\n",
      "Value added in position: (2,2) = 14\n",
      "_______________\n"
     ]
    },
    {
     "data": {
      "text/plain": [
       "[[2, -2, -6], [1, -8, -20], [-2, 5, 14]]"
      ]
     },
     "execution_count": 13,
     "metadata": {},
     "output_type": "execute_result"
    }
   ],
   "source": [
    "scalar_product(v, w)"
   ]
  },
  {
   "cell_type": "code",
   "execution_count": 9,
   "metadata": {},
   "outputs": [
    {
     "data": {
      "text/plain": [
       "array([[  2,  -2,  -6],\n",
       "       [  1,  -8, -20],\n",
       "       [ -2,   5,  14]])"
      ]
     },
     "execution_count": 9,
     "metadata": {},
     "output_type": "execute_result"
    }
   ],
   "source": [
    "np.dot(v,w)"
   ]
  },
  {
   "cell_type": "code",
   "execution_count": null,
   "metadata": {},
   "outputs": [],
   "source": []
  },
  {
   "cell_type": "code",
   "execution_count": null,
   "metadata": {},
   "outputs": [],
   "source": []
  }
 ],
 "metadata": {
  "kernelspec": {
   "display_name": "Python 3",
   "language": "python",
   "name": "python3"
  },
  "language_info": {
   "codemirror_mode": {
    "name": "ipython",
    "version": 3
   },
   "file_extension": ".py",
   "mimetype": "text/x-python",
   "name": "python",
   "nbconvert_exporter": "python",
   "pygments_lexer": "ipython3",
   "version": "3.8.3"
  }
 },
 "nbformat": 4,
 "nbformat_minor": 4
}
